{
 "cells": [
  {
   "cell_type": "markdown",
   "metadata": {},
   "source": [
    "# Project: Investigate a Dataset of Medical Appointment\n",
    "\n",
    "## Table of Contents\n",
    "<ul>\n",
    "<li><a href=\"#intro\">Introduction</a></li>\n",
    "<li><a href=\"#wrangling\">Data Wrangling</a></li>\n",
    "<li><a href=\"#eda\">Exploratory Data Analysis</a></li>\n",
    "<li><a href=\"#conclusions\">Final Conclusions</a></li>\n",
    "</ul>"
   ]
  },
  {
   "cell_type": "markdown",
   "metadata": {},
   "source": [
    "<a id='intro'></a>\n",
    "<br/>\n",
    "\n",
    "## Introduction\n",
    "\n",
    "> This is project intends to investigate a dataset with No-show appointment, which is avaiable in Kaggle, in this [link](https://www.kaggle.com/joniarroba/noshowappointments). As we will see in further, there is a relevant percentage of No-show in appointment and, one of the subject is analyze data and try to find out reasons and what could be done to decrease this rate."
   ]
  },
  {
   "cell_type": "code",
   "execution_count": 1,
   "metadata": {},
   "outputs": [],
   "source": [
    "#importing libralies\n",
    "\n",
    "import pandas as pd\n",
    "import numpy as np\n",
    "\n",
    "import matplotlib.pyplot as plt\n",
    "import seaborn as sns\n",
    "\n",
    "%matplotlib inline\n",
    "\n",
    "sns.set_style('darkgrid')"
   ]
  },
  {
   "cell_type": "markdown",
   "metadata": {},
   "source": [
    "<a id='wrangling'></a>\n",
    "<br/>\n",
    "\n",
    "## Data Wrangling\n",
    "\n",
    "\n",
    "> In this section of the report, it will be loaded data and take a overview. We are looking for inconsistencies, missing and/or duplicate data to trim and clean to set the dataset ready to analysis.  \n",
    "All manipulation will be described bellow\n",
    "\n",
    "### General Properties"
   ]
  },
  {
   "cell_type": "code",
   "execution_count": 44,
   "metadata": {},
   "outputs": [
    {
     "data": {
      "text/html": [
       "<div>\n",
       "<style scoped>\n",
       "    .dataframe tbody tr th:only-of-type {\n",
       "        vertical-align: middle;\n",
       "    }\n",
       "\n",
       "    .dataframe tbody tr th {\n",
       "        vertical-align: top;\n",
       "    }\n",
       "\n",
       "    .dataframe thead th {\n",
       "        text-align: right;\n",
       "    }\n",
       "</style>\n",
       "<table border=\"1\" class=\"dataframe\">\n",
       "  <thead>\n",
       "    <tr style=\"text-align: right;\">\n",
       "      <th></th>\n",
       "      <th>PatientId</th>\n",
       "      <th>AppointmentID</th>\n",
       "      <th>Gender</th>\n",
       "      <th>ScheduledDay</th>\n",
       "      <th>AppointmentDay</th>\n",
       "      <th>Age</th>\n",
       "      <th>Neighbourhood</th>\n",
       "      <th>Scholarship</th>\n",
       "      <th>Hipertension</th>\n",
       "      <th>Diabetes</th>\n",
       "      <th>Alcoholism</th>\n",
       "      <th>Handcap</th>\n",
       "      <th>SMS_received</th>\n",
       "      <th>No-show</th>\n",
       "    </tr>\n",
       "  </thead>\n",
       "  <tbody>\n",
       "    <tr>\n",
       "      <th>0</th>\n",
       "      <td>2.987250e+13</td>\n",
       "      <td>5642903</td>\n",
       "      <td>F</td>\n",
       "      <td>2016-04-29T18:38:08Z</td>\n",
       "      <td>2016-04-29T00:00:00Z</td>\n",
       "      <td>62</td>\n",
       "      <td>JARDIM DA PENHA</td>\n",
       "      <td>0</td>\n",
       "      <td>1</td>\n",
       "      <td>0</td>\n",
       "      <td>0</td>\n",
       "      <td>0</td>\n",
       "      <td>0</td>\n",
       "      <td>No</td>\n",
       "    </tr>\n",
       "    <tr>\n",
       "      <th>1</th>\n",
       "      <td>5.589978e+14</td>\n",
       "      <td>5642503</td>\n",
       "      <td>M</td>\n",
       "      <td>2016-04-29T16:08:27Z</td>\n",
       "      <td>2016-04-29T00:00:00Z</td>\n",
       "      <td>56</td>\n",
       "      <td>JARDIM DA PENHA</td>\n",
       "      <td>0</td>\n",
       "      <td>0</td>\n",
       "      <td>0</td>\n",
       "      <td>0</td>\n",
       "      <td>0</td>\n",
       "      <td>0</td>\n",
       "      <td>No</td>\n",
       "    </tr>\n",
       "    <tr>\n",
       "      <th>2</th>\n",
       "      <td>4.262962e+12</td>\n",
       "      <td>5642549</td>\n",
       "      <td>F</td>\n",
       "      <td>2016-04-29T16:19:04Z</td>\n",
       "      <td>2016-04-29T00:00:00Z</td>\n",
       "      <td>62</td>\n",
       "      <td>MATA DA PRAIA</td>\n",
       "      <td>0</td>\n",
       "      <td>0</td>\n",
       "      <td>0</td>\n",
       "      <td>0</td>\n",
       "      <td>0</td>\n",
       "      <td>0</td>\n",
       "      <td>No</td>\n",
       "    </tr>\n",
       "    <tr>\n",
       "      <th>3</th>\n",
       "      <td>8.679512e+11</td>\n",
       "      <td>5642828</td>\n",
       "      <td>F</td>\n",
       "      <td>2016-04-29T17:29:31Z</td>\n",
       "      <td>2016-04-29T00:00:00Z</td>\n",
       "      <td>8</td>\n",
       "      <td>PONTAL DE CAMBURI</td>\n",
       "      <td>0</td>\n",
       "      <td>0</td>\n",
       "      <td>0</td>\n",
       "      <td>0</td>\n",
       "      <td>0</td>\n",
       "      <td>0</td>\n",
       "      <td>No</td>\n",
       "    </tr>\n",
       "    <tr>\n",
       "      <th>4</th>\n",
       "      <td>8.841186e+12</td>\n",
       "      <td>5642494</td>\n",
       "      <td>F</td>\n",
       "      <td>2016-04-29T16:07:23Z</td>\n",
       "      <td>2016-04-29T00:00:00Z</td>\n",
       "      <td>56</td>\n",
       "      <td>JARDIM DA PENHA</td>\n",
       "      <td>0</td>\n",
       "      <td>1</td>\n",
       "      <td>1</td>\n",
       "      <td>0</td>\n",
       "      <td>0</td>\n",
       "      <td>0</td>\n",
       "      <td>No</td>\n",
       "    </tr>\n",
       "  </tbody>\n",
       "</table>\n",
       "</div>"
      ],
      "text/plain": [
       "      PatientId  AppointmentID Gender          ScheduledDay  \\\n",
       "0  2.987250e+13        5642903      F  2016-04-29T18:38:08Z   \n",
       "1  5.589978e+14        5642503      M  2016-04-29T16:08:27Z   \n",
       "2  4.262962e+12        5642549      F  2016-04-29T16:19:04Z   \n",
       "3  8.679512e+11        5642828      F  2016-04-29T17:29:31Z   \n",
       "4  8.841186e+12        5642494      F  2016-04-29T16:07:23Z   \n",
       "\n",
       "         AppointmentDay  Age      Neighbourhood  Scholarship  Hipertension  \\\n",
       "0  2016-04-29T00:00:00Z   62    JARDIM DA PENHA            0             1   \n",
       "1  2016-04-29T00:00:00Z   56    JARDIM DA PENHA            0             0   \n",
       "2  2016-04-29T00:00:00Z   62      MATA DA PRAIA            0             0   \n",
       "3  2016-04-29T00:00:00Z    8  PONTAL DE CAMBURI            0             0   \n",
       "4  2016-04-29T00:00:00Z   56    JARDIM DA PENHA            0             1   \n",
       "\n",
       "   Diabetes  Alcoholism  Handcap  SMS_received No-show  \n",
       "0         0           0        0             0      No  \n",
       "1         0           0        0             0      No  \n",
       "2         0           0        0             0      No  \n",
       "3         0           0        0             0      No  \n",
       "4         1           0        0             0      No  "
      ]
     },
     "execution_count": 44,
     "metadata": {},
     "output_type": "execute_result"
    }
   ],
   "source": [
    "# Load your data and print out a few lines. Perform operations to inspect data\n",
    "\n",
    "df = pd.read_csv('./data_bases/noshowappointments-kagglev2-may-2016.csv')\n",
    "df.head()"
   ]
  },
  {
   "cell_type": "code",
   "execution_count": 3,
   "metadata": {},
   "outputs": [
    {
     "data": {
      "text/html": [
       "<div>\n",
       "<style scoped>\n",
       "    .dataframe tbody tr th:only-of-type {\n",
       "        vertical-align: middle;\n",
       "    }\n",
       "\n",
       "    .dataframe tbody tr th {\n",
       "        vertical-align: top;\n",
       "    }\n",
       "\n",
       "    .dataframe thead th {\n",
       "        text-align: right;\n",
       "    }\n",
       "</style>\n",
       "<table border=\"1\" class=\"dataframe\">\n",
       "  <thead>\n",
       "    <tr style=\"text-align: right;\">\n",
       "      <th></th>\n",
       "      <th>PatientId</th>\n",
       "      <th>AppointmentID</th>\n",
       "      <th>Age</th>\n",
       "      <th>Scholarship</th>\n",
       "      <th>Hipertension</th>\n",
       "      <th>Diabetes</th>\n",
       "      <th>Alcoholism</th>\n",
       "      <th>Handcap</th>\n",
       "      <th>SMS_received</th>\n",
       "    </tr>\n",
       "  </thead>\n",
       "  <tbody>\n",
       "    <tr>\n",
       "      <th>count</th>\n",
       "      <td>1.105270e+05</td>\n",
       "      <td>1.105270e+05</td>\n",
       "      <td>110527.000000</td>\n",
       "      <td>110527.000000</td>\n",
       "      <td>110527.000000</td>\n",
       "      <td>110527.000000</td>\n",
       "      <td>110527.000000</td>\n",
       "      <td>110527.000000</td>\n",
       "      <td>110527.000000</td>\n",
       "    </tr>\n",
       "    <tr>\n",
       "      <th>mean</th>\n",
       "      <td>1.474963e+14</td>\n",
       "      <td>5.675305e+06</td>\n",
       "      <td>37.088874</td>\n",
       "      <td>0.098266</td>\n",
       "      <td>0.197246</td>\n",
       "      <td>0.071865</td>\n",
       "      <td>0.030400</td>\n",
       "      <td>0.022248</td>\n",
       "      <td>0.321026</td>\n",
       "    </tr>\n",
       "    <tr>\n",
       "      <th>std</th>\n",
       "      <td>2.560949e+14</td>\n",
       "      <td>7.129575e+04</td>\n",
       "      <td>23.110205</td>\n",
       "      <td>0.297675</td>\n",
       "      <td>0.397921</td>\n",
       "      <td>0.258265</td>\n",
       "      <td>0.171686</td>\n",
       "      <td>0.161543</td>\n",
       "      <td>0.466873</td>\n",
       "    </tr>\n",
       "    <tr>\n",
       "      <th>min</th>\n",
       "      <td>3.921784e+04</td>\n",
       "      <td>5.030230e+06</td>\n",
       "      <td>-1.000000</td>\n",
       "      <td>0.000000</td>\n",
       "      <td>0.000000</td>\n",
       "      <td>0.000000</td>\n",
       "      <td>0.000000</td>\n",
       "      <td>0.000000</td>\n",
       "      <td>0.000000</td>\n",
       "    </tr>\n",
       "    <tr>\n",
       "      <th>25%</th>\n",
       "      <td>4.172614e+12</td>\n",
       "      <td>5.640286e+06</td>\n",
       "      <td>18.000000</td>\n",
       "      <td>0.000000</td>\n",
       "      <td>0.000000</td>\n",
       "      <td>0.000000</td>\n",
       "      <td>0.000000</td>\n",
       "      <td>0.000000</td>\n",
       "      <td>0.000000</td>\n",
       "    </tr>\n",
       "    <tr>\n",
       "      <th>50%</th>\n",
       "      <td>3.173184e+13</td>\n",
       "      <td>5.680573e+06</td>\n",
       "      <td>37.000000</td>\n",
       "      <td>0.000000</td>\n",
       "      <td>0.000000</td>\n",
       "      <td>0.000000</td>\n",
       "      <td>0.000000</td>\n",
       "      <td>0.000000</td>\n",
       "      <td>0.000000</td>\n",
       "    </tr>\n",
       "    <tr>\n",
       "      <th>75%</th>\n",
       "      <td>9.439172e+13</td>\n",
       "      <td>5.725524e+06</td>\n",
       "      <td>55.000000</td>\n",
       "      <td>0.000000</td>\n",
       "      <td>0.000000</td>\n",
       "      <td>0.000000</td>\n",
       "      <td>0.000000</td>\n",
       "      <td>0.000000</td>\n",
       "      <td>1.000000</td>\n",
       "    </tr>\n",
       "    <tr>\n",
       "      <th>max</th>\n",
       "      <td>9.999816e+14</td>\n",
       "      <td>5.790484e+06</td>\n",
       "      <td>115.000000</td>\n",
       "      <td>1.000000</td>\n",
       "      <td>1.000000</td>\n",
       "      <td>1.000000</td>\n",
       "      <td>1.000000</td>\n",
       "      <td>4.000000</td>\n",
       "      <td>1.000000</td>\n",
       "    </tr>\n",
       "  </tbody>\n",
       "</table>\n",
       "</div>"
      ],
      "text/plain": [
       "          PatientId  AppointmentID            Age    Scholarship  \\\n",
       "count  1.105270e+05   1.105270e+05  110527.000000  110527.000000   \n",
       "mean   1.474963e+14   5.675305e+06      37.088874       0.098266   \n",
       "std    2.560949e+14   7.129575e+04      23.110205       0.297675   \n",
       "min    3.921784e+04   5.030230e+06      -1.000000       0.000000   \n",
       "25%    4.172614e+12   5.640286e+06      18.000000       0.000000   \n",
       "50%    3.173184e+13   5.680573e+06      37.000000       0.000000   \n",
       "75%    9.439172e+13   5.725524e+06      55.000000       0.000000   \n",
       "max    9.999816e+14   5.790484e+06     115.000000       1.000000   \n",
       "\n",
       "        Hipertension       Diabetes     Alcoholism        Handcap  \\\n",
       "count  110527.000000  110527.000000  110527.000000  110527.000000   \n",
       "mean        0.197246       0.071865       0.030400       0.022248   \n",
       "std         0.397921       0.258265       0.171686       0.161543   \n",
       "min         0.000000       0.000000       0.000000       0.000000   \n",
       "25%         0.000000       0.000000       0.000000       0.000000   \n",
       "50%         0.000000       0.000000       0.000000       0.000000   \n",
       "75%         0.000000       0.000000       0.000000       0.000000   \n",
       "max         1.000000       1.000000       1.000000       4.000000   \n",
       "\n",
       "        SMS_received  \n",
       "count  110527.000000  \n",
       "mean        0.321026  \n",
       "std         0.466873  \n",
       "min         0.000000  \n",
       "25%         0.000000  \n",
       "50%         0.000000  \n",
       "75%         1.000000  \n",
       "max         1.000000  "
      ]
     },
     "execution_count": 3,
     "metadata": {},
     "output_type": "execute_result"
    }
   ],
   "source": [
    "# Show some statistics information about dataset\n",
    "df.describe()"
   ]
  },
  {
   "cell_type": "markdown",
   "metadata": {},
   "source": [
    "In quick view we found two inconsistencies: **There is no possible that someone with -1 year old. Same for 115 year old, it's strange**.  For now, just keep it on mind to check later.  \n",
    "Let's see some general information about this dataset"
   ]
  },
  {
   "cell_type": "code",
   "execution_count": 4,
   "metadata": {},
   "outputs": [
    {
     "name": "stdout",
     "output_type": "stream",
     "text": [
      "<class 'pandas.core.frame.DataFrame'>\n",
      "RangeIndex: 110527 entries, 0 to 110526\n",
      "Data columns (total 14 columns):\n",
      " #   Column          Non-Null Count   Dtype  \n",
      "---  ------          --------------   -----  \n",
      " 0   PatientId       110527 non-null  float64\n",
      " 1   AppointmentID   110527 non-null  int64  \n",
      " 2   Gender          110527 non-null  object \n",
      " 3   ScheduledDay    110527 non-null  object \n",
      " 4   AppointmentDay  110527 non-null  object \n",
      " 5   Age             110527 non-null  int64  \n",
      " 6   Neighbourhood   110527 non-null  object \n",
      " 7   Scholarship     110527 non-null  int64  \n",
      " 8   Hipertension    110527 non-null  int64  \n",
      " 9   Diabetes        110527 non-null  int64  \n",
      " 10  Alcoholism      110527 non-null  int64  \n",
      " 11  Handcap         110527 non-null  int64  \n",
      " 12  SMS_received    110527 non-null  int64  \n",
      " 13  No-show         110527 non-null  object \n",
      "dtypes: float64(1), int64(8), object(5)\n",
      "memory usage: 11.8+ MB\n"
     ]
    }
   ],
   "source": [
    "df.info()"
   ]
  },
  {
   "cell_type": "markdown",
   "metadata": {},
   "source": [
    "Theres no missing values in this dataframe, which means less manipulation."
   ]
  },
  {
   "cell_type": "markdown",
   "metadata": {},
   "source": [
    "### Vizualizing and Manipulating Data  \n",
    ">Now that we made a quick view, let's go further and check some features to understand what it is about and determine if is relevant to analysis or not.  \n",
    "Irrelevant columns will be droped.\n",
    "\n"
   ]
  },
  {
   "cell_type": "code",
   "execution_count": 5,
   "metadata": {},
   "outputs": [
    {
     "data": {
      "text/plain": [
       "True"
      ]
     },
     "execution_count": 5,
     "metadata": {},
     "output_type": "execute_result"
    }
   ],
   "source": [
    "#Let's check if we have duplicated appointment in the dataframe\n",
    "\n",
    "df['AppointmentID'].nunique() == df.shape[0]"
   ]
  },
  {
   "cell_type": "markdown",
   "metadata": {},
   "source": [
    "Before to start netx step, I want do split schedule and appointment into year, month and day (hour could not be useful now) - since these columns are in string format.  \n",
    "Therefore, it will be created six new columns."
   ]
  },
  {
   "cell_type": "code",
   "execution_count": 6,
   "metadata": {},
   "outputs": [],
   "source": [
    "#Create splited columns to scheduled day\n",
    "df['S_year'] = df['ScheduledDay'].apply(lambda x: x[:4])\n",
    "df['S_month'] = df['ScheduledDay'].apply(lambda x: x[5:7])\n",
    "\n",
    "#Create splited columns to appointment day\n",
    "df['A_year'] = df['AppointmentDay'].apply(lambda x: x[:4])\n",
    "df['A_month'] = df['AppointmentDay'].apply(lambda x: x[5:7])\n",
    "\n",
    "#Reorder columns\n",
    "df = df[['PatientId', 'AppointmentID', 'Gender', 'ScheduledDay', 'S_year', 'S_month', 'AppointmentDay',  \n",
    "    'A_year', 'A_month', 'Age', 'Neighbourhood', 'Scholarship', 'Hipertension', 'Diabetes', \n",
    "    'Alcoholism', 'Handcap', 'SMS_received', 'No-show', \n",
    "   ]]\n"
   ]
  },
  {
   "cell_type": "markdown",
   "metadata": {},
   "source": [
    "Other point to confirm it's appointment hour - first five record have \"00:00:00\", so let's check if we have some different values:"
   ]
  },
  {
   "cell_type": "code",
   "execution_count": 7,
   "metadata": {},
   "outputs": [
    {
     "data": {
      "text/html": [
       "<div>\n",
       "<style scoped>\n",
       "    .dataframe tbody tr th:only-of-type {\n",
       "        vertical-align: middle;\n",
       "    }\n",
       "\n",
       "    .dataframe tbody tr th {\n",
       "        vertical-align: top;\n",
       "    }\n",
       "\n",
       "    .dataframe thead th {\n",
       "        text-align: right;\n",
       "    }\n",
       "</style>\n",
       "<table border=\"1\" class=\"dataframe\">\n",
       "  <thead>\n",
       "    <tr style=\"text-align: right;\">\n",
       "      <th></th>\n",
       "      <th>PatientId</th>\n",
       "      <th>AppointmentID</th>\n",
       "      <th>Gender</th>\n",
       "      <th>ScheduledDay</th>\n",
       "      <th>S_year</th>\n",
       "      <th>S_month</th>\n",
       "      <th>AppointmentDay</th>\n",
       "      <th>A_year</th>\n",
       "      <th>A_month</th>\n",
       "      <th>Age</th>\n",
       "      <th>Neighbourhood</th>\n",
       "      <th>Scholarship</th>\n",
       "      <th>Hipertension</th>\n",
       "      <th>Diabetes</th>\n",
       "      <th>Alcoholism</th>\n",
       "      <th>Handcap</th>\n",
       "      <th>SMS_received</th>\n",
       "      <th>No-show</th>\n",
       "    </tr>\n",
       "  </thead>\n",
       "  <tbody>\n",
       "  </tbody>\n",
       "</table>\n",
       "</div>"
      ],
      "text/plain": [
       "Empty DataFrame\n",
       "Columns: [PatientId, AppointmentID, Gender, ScheduledDay, S_year, S_month, AppointmentDay, A_year, A_month, Age, Neighbourhood, Scholarship, Hipertension, Diabetes, Alcoholism, Handcap, SMS_received, No-show]\n",
       "Index: []"
      ]
     },
     "execution_count": 7,
     "metadata": {},
     "output_type": "execute_result"
    }
   ],
   "source": [
    "#List row wich appointment day contain other value\n",
    "df[~df['AppointmentDay'].str.contains(\"00:00:00\")]"
   ]
  },
  {
   "cell_type": "markdown",
   "metadata": {},
   "source": [
    "Since there no values different than 00:00:00, this information will not be important to further analysis.  \n",
    "In this case, I will cut hour from ScheduledDay and AppointmentDay and convert to datatime type:\n"
   ]
  },
  {
   "cell_type": "code",
   "execution_count": 8,
   "metadata": {},
   "outputs": [
    {
     "name": "stdout",
     "output_type": "stream",
     "text": [
      "<class 'pandas.core.frame.DataFrame'>\n",
      "RangeIndex: 110527 entries, 0 to 110526\n",
      "Data columns (total 2 columns):\n",
      " #   Column          Non-Null Count   Dtype         \n",
      "---  ------          --------------   -----         \n",
      " 0   ScheduledDay    110527 non-null  datetime64[ns]\n",
      " 1   AppointmentDay  110527 non-null  datetime64[ns]\n",
      "dtypes: datetime64[ns](2)\n",
      "memory usage: 1.7 MB\n"
     ]
    }
   ],
   "source": [
    "columns_to_change = ['ScheduledDay', 'AppointmentDay']\n",
    "\n",
    "for i in columns_to_change:\n",
    "    df[i] = df[i].apply(lambda x: x[:10]).astype('datetime64')\n",
    "\n",
    "df[['ScheduledDay', 'AppointmentDay']].info()"
   ]
  },
  {
   "cell_type": "markdown",
   "metadata": {},
   "source": [
    "Aditionally, we are create a new colum with timedelta between appointment day and scheduled day to measure waiting time."
   ]
  },
  {
   "cell_type": "code",
   "execution_count": 9,
   "metadata": {
    "scrolled": true
   },
   "outputs": [
    {
     "data": {
      "text/plain": [
       "count                        110527\n",
       "mean     10 days 04:24:31.828602965\n",
       "std      15 days 06:07:11.673762786\n",
       "min               -6 days +00:00:00\n",
       "25%                 0 days 00:00:00\n",
       "50%                 4 days 00:00:00\n",
       "75%                15 days 00:00:00\n",
       "max               179 days 00:00:00\n",
       "Name: Waiting_time, dtype: object"
      ]
     },
     "execution_count": 9,
     "metadata": {},
     "output_type": "execute_result"
    }
   ],
   "source": [
    "df['Waiting_time'] = (df['AppointmentDay'] - df['ScheduledDay'])\n",
    "df['Waiting_time'].describe()"
   ]
  },
  {
   "cell_type": "markdown",
   "metadata": {},
   "source": [
    "We have negative values, that's impossible, in data cleaning session we will find and drop these ones.  \n",
    "Now let's check year and month range of dataset:"
   ]
  },
  {
   "cell_type": "code",
   "execution_count": 10,
   "metadata": {},
   "outputs": [
    {
     "name": "stdout",
     "output_type": "stream",
     "text": [
      "S_year :\n",
      " 2015        62\n",
      "2016    110465\n",
      "Name: S_year, dtype: int64 \n",
      "\n",
      "A_year :\n",
      " 2016    110527\n",
      "Name: A_year, dtype: int64 \n",
      "\n",
      "S_month :\n",
      " 01       60\n",
      "02      281\n",
      "03     3614\n",
      "04    25339\n",
      "05    67421\n",
      "06    13750\n",
      "11        1\n",
      "12       61\n",
      "Name: S_month, dtype: int64 \n",
      "\n",
      "A_month :\n",
      " 04     3235\n",
      "05    80841\n",
      "06    26451\n",
      "Name: A_month, dtype: int64 \n",
      "\n"
     ]
    }
   ],
   "source": [
    "year_columns = ['S_year', 'A_year']\n",
    "month_columns = ['S_month', 'A_month']\n",
    "\n",
    "for year in year_columns:\n",
    "        print(year, ':\\n', df[year].value_counts().sort_index(), '\\n')\n",
    "\n",
    "for month in month_columns:\n",
    "    print(month, ':\\n',df[month].value_counts().sort_index(), '\\n')\n"
   ]
  },
  {
   "cell_type": "markdown",
   "metadata": {},
   "source": [
    "We have some appointment scheduled in 2015, but all appointment was in 2016, starting in April and ending in June. That means waiting time in day it's going to be greate.  \n",
    "It's just 62 rows, this sample is too small to be significant, so I will drop these rows and focus analysis in 2016 record.\n",
    "\n",
    "<br/>\n",
    "\n",
    "Finally, these columns that contain desease are represented by boolean and I'm not sure if they will be important.  \n",
    "Just to check, let's see if they have correlation between themselves. To do that, I will add column with No-show, in boolean."
   ]
  },
  {
   "cell_type": "code",
   "execution_count": 11,
   "metadata": {},
   "outputs": [
    {
     "data": {
      "text/html": [
       "<div>\n",
       "<style scoped>\n",
       "    .dataframe tbody tr th:only-of-type {\n",
       "        vertical-align: middle;\n",
       "    }\n",
       "\n",
       "    .dataframe tbody tr th {\n",
       "        vertical-align: top;\n",
       "    }\n",
       "\n",
       "    .dataframe thead th {\n",
       "        text-align: right;\n",
       "    }\n",
       "</style>\n",
       "<table border=\"1\" class=\"dataframe\">\n",
       "  <thead>\n",
       "    <tr style=\"text-align: right;\">\n",
       "      <th></th>\n",
       "      <th>PatientId</th>\n",
       "      <th>AppointmentID</th>\n",
       "      <th>Age</th>\n",
       "      <th>Scholarship</th>\n",
       "      <th>Hipertension</th>\n",
       "      <th>Diabetes</th>\n",
       "      <th>Alcoholism</th>\n",
       "      <th>Handcap</th>\n",
       "      <th>SMS_received</th>\n",
       "      <th>No-show-boolean</th>\n",
       "    </tr>\n",
       "  </thead>\n",
       "  <tbody>\n",
       "    <tr>\n",
       "      <th>PatientId</th>\n",
       "      <td>1.000000</td>\n",
       "      <td>0.004039</td>\n",
       "      <td>-0.004139</td>\n",
       "      <td>-0.002880</td>\n",
       "      <td>-0.006441</td>\n",
       "      <td>0.001605</td>\n",
       "      <td>0.011011</td>\n",
       "      <td>-0.007916</td>\n",
       "      <td>-0.009749</td>\n",
       "      <td>-0.001461</td>\n",
       "    </tr>\n",
       "    <tr>\n",
       "      <th>AppointmentID</th>\n",
       "      <td>0.004039</td>\n",
       "      <td>1.000000</td>\n",
       "      <td>-0.019126</td>\n",
       "      <td>0.022615</td>\n",
       "      <td>0.012752</td>\n",
       "      <td>0.022628</td>\n",
       "      <td>0.032944</td>\n",
       "      <td>0.014106</td>\n",
       "      <td>-0.256618</td>\n",
       "      <td>-0.162602</td>\n",
       "    </tr>\n",
       "    <tr>\n",
       "      <th>Age</th>\n",
       "      <td>-0.004139</td>\n",
       "      <td>-0.019126</td>\n",
       "      <td>1.000000</td>\n",
       "      <td>-0.092457</td>\n",
       "      <td>0.504586</td>\n",
       "      <td>0.292391</td>\n",
       "      <td>0.095811</td>\n",
       "      <td>0.078033</td>\n",
       "      <td>0.012643</td>\n",
       "      <td>-0.060319</td>\n",
       "    </tr>\n",
       "    <tr>\n",
       "      <th>Scholarship</th>\n",
       "      <td>-0.002880</td>\n",
       "      <td>0.022615</td>\n",
       "      <td>-0.092457</td>\n",
       "      <td>1.000000</td>\n",
       "      <td>-0.019729</td>\n",
       "      <td>-0.024894</td>\n",
       "      <td>0.035022</td>\n",
       "      <td>-0.008586</td>\n",
       "      <td>0.001194</td>\n",
       "      <td>0.029135</td>\n",
       "    </tr>\n",
       "    <tr>\n",
       "      <th>Hipertension</th>\n",
       "      <td>-0.006441</td>\n",
       "      <td>0.012752</td>\n",
       "      <td>0.504586</td>\n",
       "      <td>-0.019729</td>\n",
       "      <td>1.000000</td>\n",
       "      <td>0.433086</td>\n",
       "      <td>0.087971</td>\n",
       "      <td>0.080083</td>\n",
       "      <td>-0.006267</td>\n",
       "      <td>-0.035701</td>\n",
       "    </tr>\n",
       "    <tr>\n",
       "      <th>Diabetes</th>\n",
       "      <td>0.001605</td>\n",
       "      <td>0.022628</td>\n",
       "      <td>0.292391</td>\n",
       "      <td>-0.024894</td>\n",
       "      <td>0.433086</td>\n",
       "      <td>1.000000</td>\n",
       "      <td>0.018474</td>\n",
       "      <td>0.057530</td>\n",
       "      <td>-0.014550</td>\n",
       "      <td>-0.015180</td>\n",
       "    </tr>\n",
       "    <tr>\n",
       "      <th>Alcoholism</th>\n",
       "      <td>0.011011</td>\n",
       "      <td>0.032944</td>\n",
       "      <td>0.095811</td>\n",
       "      <td>0.035022</td>\n",
       "      <td>0.087971</td>\n",
       "      <td>0.018474</td>\n",
       "      <td>1.000000</td>\n",
       "      <td>0.004648</td>\n",
       "      <td>-0.026147</td>\n",
       "      <td>-0.000196</td>\n",
       "    </tr>\n",
       "    <tr>\n",
       "      <th>Handcap</th>\n",
       "      <td>-0.007916</td>\n",
       "      <td>0.014106</td>\n",
       "      <td>0.078033</td>\n",
       "      <td>-0.008586</td>\n",
       "      <td>0.080083</td>\n",
       "      <td>0.057530</td>\n",
       "      <td>0.004648</td>\n",
       "      <td>1.000000</td>\n",
       "      <td>-0.024161</td>\n",
       "      <td>-0.006076</td>\n",
       "    </tr>\n",
       "    <tr>\n",
       "      <th>SMS_received</th>\n",
       "      <td>-0.009749</td>\n",
       "      <td>-0.256618</td>\n",
       "      <td>0.012643</td>\n",
       "      <td>0.001194</td>\n",
       "      <td>-0.006267</td>\n",
       "      <td>-0.014550</td>\n",
       "      <td>-0.026147</td>\n",
       "      <td>-0.024161</td>\n",
       "      <td>1.000000</td>\n",
       "      <td>0.126431</td>\n",
       "    </tr>\n",
       "    <tr>\n",
       "      <th>No-show-boolean</th>\n",
       "      <td>-0.001461</td>\n",
       "      <td>-0.162602</td>\n",
       "      <td>-0.060319</td>\n",
       "      <td>0.029135</td>\n",
       "      <td>-0.035701</td>\n",
       "      <td>-0.015180</td>\n",
       "      <td>-0.000196</td>\n",
       "      <td>-0.006076</td>\n",
       "      <td>0.126431</td>\n",
       "      <td>1.000000</td>\n",
       "    </tr>\n",
       "  </tbody>\n",
       "</table>\n",
       "</div>"
      ],
      "text/plain": [
       "                 PatientId  AppointmentID       Age  Scholarship  \\\n",
       "PatientId         1.000000       0.004039 -0.004139    -0.002880   \n",
       "AppointmentID     0.004039       1.000000 -0.019126     0.022615   \n",
       "Age              -0.004139      -0.019126  1.000000    -0.092457   \n",
       "Scholarship      -0.002880       0.022615 -0.092457     1.000000   \n",
       "Hipertension     -0.006441       0.012752  0.504586    -0.019729   \n",
       "Diabetes          0.001605       0.022628  0.292391    -0.024894   \n",
       "Alcoholism        0.011011       0.032944  0.095811     0.035022   \n",
       "Handcap          -0.007916       0.014106  0.078033    -0.008586   \n",
       "SMS_received     -0.009749      -0.256618  0.012643     0.001194   \n",
       "No-show-boolean  -0.001461      -0.162602 -0.060319     0.029135   \n",
       "\n",
       "                 Hipertension  Diabetes  Alcoholism   Handcap  SMS_received  \\\n",
       "PatientId           -0.006441  0.001605    0.011011 -0.007916     -0.009749   \n",
       "AppointmentID        0.012752  0.022628    0.032944  0.014106     -0.256618   \n",
       "Age                  0.504586  0.292391    0.095811  0.078033      0.012643   \n",
       "Scholarship         -0.019729 -0.024894    0.035022 -0.008586      0.001194   \n",
       "Hipertension         1.000000  0.433086    0.087971  0.080083     -0.006267   \n",
       "Diabetes             0.433086  1.000000    0.018474  0.057530     -0.014550   \n",
       "Alcoholism           0.087971  0.018474    1.000000  0.004648     -0.026147   \n",
       "Handcap              0.080083  0.057530    0.004648  1.000000     -0.024161   \n",
       "SMS_received        -0.006267 -0.014550   -0.026147 -0.024161      1.000000   \n",
       "No-show-boolean     -0.035701 -0.015180   -0.000196 -0.006076      0.126431   \n",
       "\n",
       "                 No-show-boolean  \n",
       "PatientId              -0.001461  \n",
       "AppointmentID          -0.162602  \n",
       "Age                    -0.060319  \n",
       "Scholarship             0.029135  \n",
       "Hipertension           -0.035701  \n",
       "Diabetes               -0.015180  \n",
       "Alcoholism             -0.000196  \n",
       "Handcap                -0.006076  \n",
       "SMS_received            0.126431  \n",
       "No-show-boolean         1.000000  "
      ]
     },
     "execution_count": 11,
     "metadata": {},
     "output_type": "execute_result"
    }
   ],
   "source": [
    "#if No-show are Yes, it's mean the patient missed the appointment\n",
    "#than in apply function receive the value 1\n",
    "\n",
    "df['No-show-boolean'] = df['No-show'].apply(lambda x: 1 if x == \"Yes\" else 0)\n",
    "df.corr()"
   ]
  },
  {
   "cell_type": "markdown",
   "metadata": {},
   "source": [
    "No one of these columns has strong correlation, so we can just drop them.  \n"
   ]
  },
  {
   "cell_type": "markdown",
   "metadata": {},
   "source": [
    "### Data Cleaning  \n",
    "First, let's take a look in data with strange ages.  \n",
    "For strange age, I'm considering age under zero or more than a hundred:"
   ]
  },
  {
   "cell_type": "code",
   "execution_count": 12,
   "metadata": {
    "scrolled": true
   },
   "outputs": [
    {
     "data": {
      "text/html": [
       "<div>\n",
       "<style scoped>\n",
       "    .dataframe tbody tr th:only-of-type {\n",
       "        vertical-align: middle;\n",
       "    }\n",
       "\n",
       "    .dataframe tbody tr th {\n",
       "        vertical-align: top;\n",
       "    }\n",
       "\n",
       "    .dataframe thead th {\n",
       "        text-align: right;\n",
       "    }\n",
       "</style>\n",
       "<table border=\"1\" class=\"dataframe\">\n",
       "  <thead>\n",
       "    <tr style=\"text-align: right;\">\n",
       "      <th></th>\n",
       "      <th>PatientId</th>\n",
       "      <th>AppointmentID</th>\n",
       "      <th>Gender</th>\n",
       "      <th>ScheduledDay</th>\n",
       "      <th>S_year</th>\n",
       "      <th>S_month</th>\n",
       "      <th>AppointmentDay</th>\n",
       "      <th>A_year</th>\n",
       "      <th>A_month</th>\n",
       "      <th>Age</th>\n",
       "      <th>Neighbourhood</th>\n",
       "      <th>Scholarship</th>\n",
       "      <th>Hipertension</th>\n",
       "      <th>Diabetes</th>\n",
       "      <th>Alcoholism</th>\n",
       "      <th>Handcap</th>\n",
       "      <th>SMS_received</th>\n",
       "      <th>No-show</th>\n",
       "      <th>Waiting_time</th>\n",
       "      <th>No-show-boolean</th>\n",
       "    </tr>\n",
       "  </thead>\n",
       "  <tbody>\n",
       "    <tr>\n",
       "      <th>58014</th>\n",
       "      <td>9.762948e+14</td>\n",
       "      <td>5651757</td>\n",
       "      <td>F</td>\n",
       "      <td>2016-05-03</td>\n",
       "      <td>2016</td>\n",
       "      <td>05</td>\n",
       "      <td>2016-05-03</td>\n",
       "      <td>2016</td>\n",
       "      <td>05</td>\n",
       "      <td>102</td>\n",
       "      <td>CONQUISTA</td>\n",
       "      <td>0</td>\n",
       "      <td>0</td>\n",
       "      <td>0</td>\n",
       "      <td>0</td>\n",
       "      <td>0</td>\n",
       "      <td>0</td>\n",
       "      <td>No</td>\n",
       "      <td>0 days</td>\n",
       "      <td>0</td>\n",
       "    </tr>\n",
       "    <tr>\n",
       "      <th>63912</th>\n",
       "      <td>3.196321e+13</td>\n",
       "      <td>5700278</td>\n",
       "      <td>F</td>\n",
       "      <td>2016-05-16</td>\n",
       "      <td>2016</td>\n",
       "      <td>05</td>\n",
       "      <td>2016-05-19</td>\n",
       "      <td>2016</td>\n",
       "      <td>05</td>\n",
       "      <td>115</td>\n",
       "      <td>ANDORINHAS</td>\n",
       "      <td>0</td>\n",
       "      <td>0</td>\n",
       "      <td>0</td>\n",
       "      <td>0</td>\n",
       "      <td>1</td>\n",
       "      <td>0</td>\n",
       "      <td>Yes</td>\n",
       "      <td>3 days</td>\n",
       "      <td>1</td>\n",
       "    </tr>\n",
       "    <tr>\n",
       "      <th>63915</th>\n",
       "      <td>3.196321e+13</td>\n",
       "      <td>5700279</td>\n",
       "      <td>F</td>\n",
       "      <td>2016-05-16</td>\n",
       "      <td>2016</td>\n",
       "      <td>05</td>\n",
       "      <td>2016-05-19</td>\n",
       "      <td>2016</td>\n",
       "      <td>05</td>\n",
       "      <td>115</td>\n",
       "      <td>ANDORINHAS</td>\n",
       "      <td>0</td>\n",
       "      <td>0</td>\n",
       "      <td>0</td>\n",
       "      <td>0</td>\n",
       "      <td>1</td>\n",
       "      <td>0</td>\n",
       "      <td>Yes</td>\n",
       "      <td>3 days</td>\n",
       "      <td>1</td>\n",
       "    </tr>\n",
       "    <tr>\n",
       "      <th>68127</th>\n",
       "      <td>3.196321e+13</td>\n",
       "      <td>5562812</td>\n",
       "      <td>F</td>\n",
       "      <td>2016-04-08</td>\n",
       "      <td>2016</td>\n",
       "      <td>04</td>\n",
       "      <td>2016-05-16</td>\n",
       "      <td>2016</td>\n",
       "      <td>05</td>\n",
       "      <td>115</td>\n",
       "      <td>ANDORINHAS</td>\n",
       "      <td>0</td>\n",
       "      <td>0</td>\n",
       "      <td>0</td>\n",
       "      <td>0</td>\n",
       "      <td>1</td>\n",
       "      <td>0</td>\n",
       "      <td>Yes</td>\n",
       "      <td>38 days</td>\n",
       "      <td>1</td>\n",
       "    </tr>\n",
       "    <tr>\n",
       "      <th>76284</th>\n",
       "      <td>3.196321e+13</td>\n",
       "      <td>5744037</td>\n",
       "      <td>F</td>\n",
       "      <td>2016-05-30</td>\n",
       "      <td>2016</td>\n",
       "      <td>05</td>\n",
       "      <td>2016-05-30</td>\n",
       "      <td>2016</td>\n",
       "      <td>05</td>\n",
       "      <td>115</td>\n",
       "      <td>ANDORINHAS</td>\n",
       "      <td>0</td>\n",
       "      <td>0</td>\n",
       "      <td>0</td>\n",
       "      <td>0</td>\n",
       "      <td>1</td>\n",
       "      <td>0</td>\n",
       "      <td>No</td>\n",
       "      <td>0 days</td>\n",
       "      <td>0</td>\n",
       "    </tr>\n",
       "    <tr>\n",
       "      <th>90372</th>\n",
       "      <td>2.342836e+11</td>\n",
       "      <td>5751563</td>\n",
       "      <td>F</td>\n",
       "      <td>2016-05-31</td>\n",
       "      <td>2016</td>\n",
       "      <td>05</td>\n",
       "      <td>2016-06-02</td>\n",
       "      <td>2016</td>\n",
       "      <td>06</td>\n",
       "      <td>102</td>\n",
       "      <td>MARIA ORTIZ</td>\n",
       "      <td>0</td>\n",
       "      <td>0</td>\n",
       "      <td>0</td>\n",
       "      <td>0</td>\n",
       "      <td>0</td>\n",
       "      <td>0</td>\n",
       "      <td>No</td>\n",
       "      <td>2 days</td>\n",
       "      <td>0</td>\n",
       "    </tr>\n",
       "    <tr>\n",
       "      <th>97666</th>\n",
       "      <td>7.482346e+14</td>\n",
       "      <td>5717451</td>\n",
       "      <td>F</td>\n",
       "      <td>2016-05-19</td>\n",
       "      <td>2016</td>\n",
       "      <td>05</td>\n",
       "      <td>2016-06-03</td>\n",
       "      <td>2016</td>\n",
       "      <td>06</td>\n",
       "      <td>115</td>\n",
       "      <td>SÃO JOSÉ</td>\n",
       "      <td>0</td>\n",
       "      <td>1</td>\n",
       "      <td>0</td>\n",
       "      <td>0</td>\n",
       "      <td>0</td>\n",
       "      <td>1</td>\n",
       "      <td>No</td>\n",
       "      <td>15 days</td>\n",
       "      <td>0</td>\n",
       "    </tr>\n",
       "    <tr>\n",
       "      <th>99832</th>\n",
       "      <td>4.659432e+14</td>\n",
       "      <td>5775010</td>\n",
       "      <td>F</td>\n",
       "      <td>2016-06-06</td>\n",
       "      <td>2016</td>\n",
       "      <td>06</td>\n",
       "      <td>2016-06-06</td>\n",
       "      <td>2016</td>\n",
       "      <td>06</td>\n",
       "      <td>-1</td>\n",
       "      <td>ROMÃO</td>\n",
       "      <td>0</td>\n",
       "      <td>0</td>\n",
       "      <td>0</td>\n",
       "      <td>0</td>\n",
       "      <td>0</td>\n",
       "      <td>0</td>\n",
       "      <td>No</td>\n",
       "      <td>0 days</td>\n",
       "      <td>0</td>\n",
       "    </tr>\n",
       "  </tbody>\n",
       "</table>\n",
       "</div>"
      ],
      "text/plain": [
       "          PatientId  AppointmentID Gender ScheduledDay S_year S_month  \\\n",
       "58014  9.762948e+14        5651757      F   2016-05-03   2016      05   \n",
       "63912  3.196321e+13        5700278      F   2016-05-16   2016      05   \n",
       "63915  3.196321e+13        5700279      F   2016-05-16   2016      05   \n",
       "68127  3.196321e+13        5562812      F   2016-04-08   2016      04   \n",
       "76284  3.196321e+13        5744037      F   2016-05-30   2016      05   \n",
       "90372  2.342836e+11        5751563      F   2016-05-31   2016      05   \n",
       "97666  7.482346e+14        5717451      F   2016-05-19   2016      05   \n",
       "99832  4.659432e+14        5775010      F   2016-06-06   2016      06   \n",
       "\n",
       "      AppointmentDay A_year A_month  Age Neighbourhood  Scholarship  \\\n",
       "58014     2016-05-03   2016      05  102     CONQUISTA            0   \n",
       "63912     2016-05-19   2016      05  115    ANDORINHAS            0   \n",
       "63915     2016-05-19   2016      05  115    ANDORINHAS            0   \n",
       "68127     2016-05-16   2016      05  115    ANDORINHAS            0   \n",
       "76284     2016-05-30   2016      05  115    ANDORINHAS            0   \n",
       "90372     2016-06-02   2016      06  102   MARIA ORTIZ            0   \n",
       "97666     2016-06-03   2016      06  115      SÃO JOSÉ            0   \n",
       "99832     2016-06-06   2016      06   -1         ROMÃO            0   \n",
       "\n",
       "       Hipertension  Diabetes  Alcoholism  Handcap  SMS_received No-show  \\\n",
       "58014             0         0           0        0             0      No   \n",
       "63912             0         0           0        1             0     Yes   \n",
       "63915             0         0           0        1             0     Yes   \n",
       "68127             0         0           0        1             0     Yes   \n",
       "76284             0         0           0        1             0      No   \n",
       "90372             0         0           0        0             0      No   \n",
       "97666             1         0           0        0             1      No   \n",
       "99832             0         0           0        0             0      No   \n",
       "\n",
       "      Waiting_time  No-show-boolean  \n",
       "58014       0 days                0  \n",
       "63912       3 days                1  \n",
       "63915       3 days                1  \n",
       "68127      38 days                1  \n",
       "76284       0 days                0  \n",
       "90372       2 days                0  \n",
       "97666      15 days                0  \n",
       "99832       0 days                0  "
      ]
     },
     "execution_count": 12,
     "metadata": {},
     "output_type": "execute_result"
    }
   ],
   "source": [
    "# Locate in the dataset row wich contain age under zero or a hundred\n",
    "df.loc[(df['Age'] < 0) |\n",
    "       (df['Age'] > 100)]"
   ]
  },
  {
   "cell_type": "markdown",
   "metadata": {},
   "source": [
    "These rows wich age is 115 refers to a single (See the PatientID it's the same for all record).  \n",
    "Although that seems strange for me, I'll keep those and drop just the row wich age are negative."
   ]
  },
  {
   "cell_type": "code",
   "execution_count": 13,
   "metadata": {},
   "outputs": [],
   "source": [
    "#Drop row by index\n",
    "df.drop(axis=0, index=99832, inplace=True)"
   ]
  },
  {
   "cell_type": "code",
   "execution_count": 14,
   "metadata": {},
   "outputs": [
    {
     "data": {
      "text/plain": [
       "62298"
      ]
     },
     "execution_count": 14,
     "metadata": {},
     "output_type": "execute_result"
    }
   ],
   "source": [
    "#Check quantity of unique patients\n",
    "df['PatientId'].nunique()"
   ]
  },
  {
   "cell_type": "code",
   "execution_count": 15,
   "metadata": {},
   "outputs": [
    {
     "name": "stdout",
     "output_type": "stream",
     "text": [
      "This dataset have 81 Neibourhood \n",
      " relative frequence: \n",
      " JARDIM CAMBURI                 6.982068\n",
      "MARIA ORTIZ                    5.252158\n",
      "RESISTÊNCIA                    4.009011\n",
      "JARDIM DA PENHA                3.507772\n",
      "ITARARÉ                        3.179342\n",
      "                                 ...   \n",
      "ILHA DO BOI                    0.031667\n",
      "ILHA DO FRADE                  0.009048\n",
      "AEROPORTO                      0.007238\n",
      "ILHAS OCEÂNICAS DE TRINDADE    0.001810\n",
      "PARQUE INDUSTRIAL              0.000905\n",
      "Name: Neighbourhood, Length: 81, dtype: float64\n"
     ]
    }
   ],
   "source": [
    "#Check how many Neighbourhood have in dataset\n",
    "print('This dataset have {} Neibourhood \\n'.format(df['Neighbourhood'].nunique()),\n",
    "      'relative frequence: \\n', \n",
    "      df['Neighbourhood'].value_counts(normalize=True)*100\n",
    "     )\n"
   ]
  },
  {
   "cell_type": "markdown",
   "metadata": {},
   "source": [
    "We have great number of neighbourhoods, and they are very distributed in dataset, so we are not going to use them.\n",
    "\n",
    "<br/>\n",
    "\n",
    "Finally, let's drop columns that we are not going to use in this analysis.  \n"
   ]
  },
  {
   "cell_type": "code",
   "execution_count": 16,
   "metadata": {},
   "outputs": [
    {
     "data": {
      "text/html": [
       "<div>\n",
       "<style scoped>\n",
       "    .dataframe tbody tr th:only-of-type {\n",
       "        vertical-align: middle;\n",
       "    }\n",
       "\n",
       "    .dataframe tbody tr th {\n",
       "        vertical-align: top;\n",
       "    }\n",
       "\n",
       "    .dataframe thead th {\n",
       "        text-align: right;\n",
       "    }\n",
       "</style>\n",
       "<table border=\"1\" class=\"dataframe\">\n",
       "  <thead>\n",
       "    <tr style=\"text-align: right;\">\n",
       "      <th></th>\n",
       "      <th>PatientId</th>\n",
       "      <th>Gender</th>\n",
       "      <th>ScheduledDay</th>\n",
       "      <th>S_year</th>\n",
       "      <th>S_month</th>\n",
       "      <th>AppointmentDay</th>\n",
       "      <th>A_year</th>\n",
       "      <th>A_month</th>\n",
       "      <th>Age</th>\n",
       "      <th>SMS_received</th>\n",
       "      <th>No-show</th>\n",
       "      <th>Waiting_time</th>\n",
       "      <th>No-show-boolean</th>\n",
       "    </tr>\n",
       "  </thead>\n",
       "  <tbody>\n",
       "    <tr>\n",
       "      <th>0</th>\n",
       "      <td>2.987250e+13</td>\n",
       "      <td>F</td>\n",
       "      <td>2016-04-29</td>\n",
       "      <td>2016</td>\n",
       "      <td>04</td>\n",
       "      <td>2016-04-29</td>\n",
       "      <td>2016</td>\n",
       "      <td>04</td>\n",
       "      <td>62</td>\n",
       "      <td>0</td>\n",
       "      <td>No</td>\n",
       "      <td>0 days</td>\n",
       "      <td>0</td>\n",
       "    </tr>\n",
       "    <tr>\n",
       "      <th>1</th>\n",
       "      <td>5.589978e+14</td>\n",
       "      <td>M</td>\n",
       "      <td>2016-04-29</td>\n",
       "      <td>2016</td>\n",
       "      <td>04</td>\n",
       "      <td>2016-04-29</td>\n",
       "      <td>2016</td>\n",
       "      <td>04</td>\n",
       "      <td>56</td>\n",
       "      <td>0</td>\n",
       "      <td>No</td>\n",
       "      <td>0 days</td>\n",
       "      <td>0</td>\n",
       "    </tr>\n",
       "    <tr>\n",
       "      <th>2</th>\n",
       "      <td>4.262962e+12</td>\n",
       "      <td>F</td>\n",
       "      <td>2016-04-29</td>\n",
       "      <td>2016</td>\n",
       "      <td>04</td>\n",
       "      <td>2016-04-29</td>\n",
       "      <td>2016</td>\n",
       "      <td>04</td>\n",
       "      <td>62</td>\n",
       "      <td>0</td>\n",
       "      <td>No</td>\n",
       "      <td>0 days</td>\n",
       "      <td>0</td>\n",
       "    </tr>\n",
       "    <tr>\n",
       "      <th>3</th>\n",
       "      <td>8.679512e+11</td>\n",
       "      <td>F</td>\n",
       "      <td>2016-04-29</td>\n",
       "      <td>2016</td>\n",
       "      <td>04</td>\n",
       "      <td>2016-04-29</td>\n",
       "      <td>2016</td>\n",
       "      <td>04</td>\n",
       "      <td>8</td>\n",
       "      <td>0</td>\n",
       "      <td>No</td>\n",
       "      <td>0 days</td>\n",
       "      <td>0</td>\n",
       "    </tr>\n",
       "    <tr>\n",
       "      <th>4</th>\n",
       "      <td>8.841186e+12</td>\n",
       "      <td>F</td>\n",
       "      <td>2016-04-29</td>\n",
       "      <td>2016</td>\n",
       "      <td>04</td>\n",
       "      <td>2016-04-29</td>\n",
       "      <td>2016</td>\n",
       "      <td>04</td>\n",
       "      <td>56</td>\n",
       "      <td>0</td>\n",
       "      <td>No</td>\n",
       "      <td>0 days</td>\n",
       "      <td>0</td>\n",
       "    </tr>\n",
       "    <tr>\n",
       "      <th>...</th>\n",
       "      <td>...</td>\n",
       "      <td>...</td>\n",
       "      <td>...</td>\n",
       "      <td>...</td>\n",
       "      <td>...</td>\n",
       "      <td>...</td>\n",
       "      <td>...</td>\n",
       "      <td>...</td>\n",
       "      <td>...</td>\n",
       "      <td>...</td>\n",
       "      <td>...</td>\n",
       "      <td>...</td>\n",
       "      <td>...</td>\n",
       "    </tr>\n",
       "    <tr>\n",
       "      <th>110522</th>\n",
       "      <td>2.572134e+12</td>\n",
       "      <td>F</td>\n",
       "      <td>2016-05-03</td>\n",
       "      <td>2016</td>\n",
       "      <td>05</td>\n",
       "      <td>2016-06-07</td>\n",
       "      <td>2016</td>\n",
       "      <td>06</td>\n",
       "      <td>56</td>\n",
       "      <td>1</td>\n",
       "      <td>No</td>\n",
       "      <td>35 days</td>\n",
       "      <td>0</td>\n",
       "    </tr>\n",
       "    <tr>\n",
       "      <th>110523</th>\n",
       "      <td>3.596266e+12</td>\n",
       "      <td>F</td>\n",
       "      <td>2016-05-03</td>\n",
       "      <td>2016</td>\n",
       "      <td>05</td>\n",
       "      <td>2016-06-07</td>\n",
       "      <td>2016</td>\n",
       "      <td>06</td>\n",
       "      <td>51</td>\n",
       "      <td>1</td>\n",
       "      <td>No</td>\n",
       "      <td>35 days</td>\n",
       "      <td>0</td>\n",
       "    </tr>\n",
       "    <tr>\n",
       "      <th>110524</th>\n",
       "      <td>1.557663e+13</td>\n",
       "      <td>F</td>\n",
       "      <td>2016-04-27</td>\n",
       "      <td>2016</td>\n",
       "      <td>04</td>\n",
       "      <td>2016-06-07</td>\n",
       "      <td>2016</td>\n",
       "      <td>06</td>\n",
       "      <td>21</td>\n",
       "      <td>1</td>\n",
       "      <td>No</td>\n",
       "      <td>41 days</td>\n",
       "      <td>0</td>\n",
       "    </tr>\n",
       "    <tr>\n",
       "      <th>110525</th>\n",
       "      <td>9.213493e+13</td>\n",
       "      <td>F</td>\n",
       "      <td>2016-04-27</td>\n",
       "      <td>2016</td>\n",
       "      <td>04</td>\n",
       "      <td>2016-06-07</td>\n",
       "      <td>2016</td>\n",
       "      <td>06</td>\n",
       "      <td>38</td>\n",
       "      <td>1</td>\n",
       "      <td>No</td>\n",
       "      <td>41 days</td>\n",
       "      <td>0</td>\n",
       "    </tr>\n",
       "    <tr>\n",
       "      <th>110526</th>\n",
       "      <td>3.775115e+14</td>\n",
       "      <td>F</td>\n",
       "      <td>2016-04-27</td>\n",
       "      <td>2016</td>\n",
       "      <td>04</td>\n",
       "      <td>2016-06-07</td>\n",
       "      <td>2016</td>\n",
       "      <td>06</td>\n",
       "      <td>54</td>\n",
       "      <td>1</td>\n",
       "      <td>No</td>\n",
       "      <td>41 days</td>\n",
       "      <td>0</td>\n",
       "    </tr>\n",
       "  </tbody>\n",
       "</table>\n",
       "<p>110526 rows × 13 columns</p>\n",
       "</div>"
      ],
      "text/plain": [
       "           PatientId Gender ScheduledDay S_year S_month AppointmentDay A_year  \\\n",
       "0       2.987250e+13      F   2016-04-29   2016      04     2016-04-29   2016   \n",
       "1       5.589978e+14      M   2016-04-29   2016      04     2016-04-29   2016   \n",
       "2       4.262962e+12      F   2016-04-29   2016      04     2016-04-29   2016   \n",
       "3       8.679512e+11      F   2016-04-29   2016      04     2016-04-29   2016   \n",
       "4       8.841186e+12      F   2016-04-29   2016      04     2016-04-29   2016   \n",
       "...              ...    ...          ...    ...     ...            ...    ...   \n",
       "110522  2.572134e+12      F   2016-05-03   2016      05     2016-06-07   2016   \n",
       "110523  3.596266e+12      F   2016-05-03   2016      05     2016-06-07   2016   \n",
       "110524  1.557663e+13      F   2016-04-27   2016      04     2016-06-07   2016   \n",
       "110525  9.213493e+13      F   2016-04-27   2016      04     2016-06-07   2016   \n",
       "110526  3.775115e+14      F   2016-04-27   2016      04     2016-06-07   2016   \n",
       "\n",
       "       A_month  Age  SMS_received No-show Waiting_time  No-show-boolean  \n",
       "0           04   62             0      No       0 days                0  \n",
       "1           04   56             0      No       0 days                0  \n",
       "2           04   62             0      No       0 days                0  \n",
       "3           04    8             0      No       0 days                0  \n",
       "4           04   56             0      No       0 days                0  \n",
       "...        ...  ...           ...     ...          ...              ...  \n",
       "110522      06   56             1      No      35 days                0  \n",
       "110523      06   51             1      No      35 days                0  \n",
       "110524      06   21             1      No      41 days                0  \n",
       "110525      06   38             1      No      41 days                0  \n",
       "110526      06   54             1      No      41 days                0  \n",
       "\n",
       "[110526 rows x 13 columns]"
      ]
     },
     "execution_count": 16,
     "metadata": {},
     "output_type": "execute_result"
    }
   ],
   "source": [
    "df.drop(['AppointmentID', 'Neighbourhood', 'Scholarship', 'Hipertension', 'Diabetes', 'Alcoholism', 'Handcap'], axis=1, inplace=True)\n",
    "df"
   ]
  },
  {
   "cell_type": "markdown",
   "metadata": {},
   "source": [
    "Drop all appointment scheduled in 2015:"
   ]
  },
  {
   "cell_type": "code",
   "execution_count": 17,
   "metadata": {},
   "outputs": [],
   "source": [
    "appointment_of_2005 = df.query('`S_year` == \"2015\"').index\n",
    "df.drop(appointment_of_2005, axis=0, inplace=True)"
   ]
  },
  {
   "cell_type": "code",
   "execution_count": 18,
   "metadata": {},
   "outputs": [
    {
     "data": {
      "text/html": [
       "<div>\n",
       "<style scoped>\n",
       "    .dataframe tbody tr th:only-of-type {\n",
       "        vertical-align: middle;\n",
       "    }\n",
       "\n",
       "    .dataframe tbody tr th {\n",
       "        vertical-align: top;\n",
       "    }\n",
       "\n",
       "    .dataframe thead th {\n",
       "        text-align: right;\n",
       "    }\n",
       "</style>\n",
       "<table border=\"1\" class=\"dataframe\">\n",
       "  <thead>\n",
       "    <tr style=\"text-align: right;\">\n",
       "      <th></th>\n",
       "      <th>PatientId</th>\n",
       "      <th>Gender</th>\n",
       "      <th>ScheduledDay</th>\n",
       "      <th>S_year</th>\n",
       "      <th>S_month</th>\n",
       "      <th>AppointmentDay</th>\n",
       "      <th>A_year</th>\n",
       "      <th>A_month</th>\n",
       "      <th>Age</th>\n",
       "      <th>SMS_received</th>\n",
       "      <th>No-show</th>\n",
       "      <th>Waiting_time</th>\n",
       "      <th>No-show-boolean</th>\n",
       "    </tr>\n",
       "  </thead>\n",
       "  <tbody>\n",
       "  </tbody>\n",
       "</table>\n",
       "</div>"
      ],
      "text/plain": [
       "Empty DataFrame\n",
       "Columns: [PatientId, Gender, ScheduledDay, S_year, S_month, AppointmentDay, A_year, A_month, Age, SMS_received, No-show, Waiting_time, No-show-boolean]\n",
       "Index: []"
      ]
     },
     "execution_count": 18,
     "metadata": {},
     "output_type": "execute_result"
    }
   ],
   "source": [
    "df.query('`S_year` == \"2015\"')"
   ]
  },
  {
   "cell_type": "code",
   "execution_count": 19,
   "metadata": {},
   "outputs": [],
   "source": [
    "#Drop all row with negative waiting time\n",
    "negative_waiting_days = df.query('`Waiting_time` < \"0\"').index\n",
    "df.drop(negative_waiting_days, axis=0, inplace=True)"
   ]
  },
  {
   "cell_type": "code",
   "execution_count": 20,
   "metadata": {},
   "outputs": [
    {
     "name": "stdout",
     "output_type": "stream",
     "text": [
      "<class 'pandas.core.frame.DataFrame'>\n",
      "Int64Index: 110459 entries, 0 to 110526\n",
      "Data columns (total 13 columns):\n",
      " #   Column           Non-Null Count   Dtype          \n",
      "---  ------           --------------   -----          \n",
      " 0   PatientId        110459 non-null  float64        \n",
      " 1   Gender           110459 non-null  object         \n",
      " 2   ScheduledDay     110459 non-null  datetime64[ns] \n",
      " 3   S_year           110459 non-null  object         \n",
      " 4   S_month          110459 non-null  object         \n",
      " 5   AppointmentDay   110459 non-null  datetime64[ns] \n",
      " 6   A_year           110459 non-null  object         \n",
      " 7   A_month          110459 non-null  object         \n",
      " 8   Age              110459 non-null  int64          \n",
      " 9   SMS_received     110459 non-null  int64          \n",
      " 10  No-show          110459 non-null  object         \n",
      " 11  Waiting_time     110459 non-null  timedelta64[ns]\n",
      " 12  No-show-boolean  110459 non-null  int64          \n",
      "dtypes: datetime64[ns](2), float64(1), int64(3), object(6), timedelta64[ns](1)\n",
      "memory usage: 11.8+ MB\n"
     ]
    }
   ],
   "source": [
    "df.info()"
   ]
  },
  {
   "cell_type": "markdown",
   "metadata": {},
   "source": [
    "<a id='eda'></a>\n",
    "\n",
    "<br/>\n",
    "\n",
    "## Exploratory Data Analysis\n",
    "\n",
    "\n",
    "\n"
   ]
  },
  {
   "cell_type": "markdown",
   "metadata": {},
   "source": [
    "### First findings\n",
    "let's extract the firsts information, such as proportion of show-up/no-show and amount of appointment per month.\n",
    "  \n",
    "  \n",
    "<br/>\n",
    "  \n",
    "#### Proportion"
   ]
  },
  {
   "cell_type": "code",
   "execution_count": 21,
   "metadata": {},
   "outputs": [
    {
     "data": {
      "image/png": "[encoded data removed]",
      "text/plain": [
       "<Figure size 432x432 with 1 Axes>"
      ]
     },
     "metadata": {},
     "output_type": "display_data"
    },
    {
     "name": "stdout",
     "output_type": "stream",
     "text": [
      "No     88164\n",
      "Yes    22295\n",
      "Name: No-show, dtype: int64\n"
     ]
    }
   ],
   "source": [
    "sup_nshow = df['No-show'].value_counts()\n",
    "\n",
    "labels = ['Show-up', 'No-show']\n",
    "plt.figure(figsize=(6, 6))\n",
    "plt.suptitle('Show-up/No-show Proportion', fontsize=26)\n",
    "sup_nshow.plot(\n",
    "    kind='pie', labels=labels, autopct='%1.f%%', colors=['g', 'r'],\n",
    "    fontsize=16)\n",
    "plt.show()\n",
    "print(sup_nshow)"
   ]
  },
  {
   "cell_type": "markdown",
   "metadata": {},
   "source": [
    "We have 22,319 no-show appointment, wich represent 20% of all data.  \n",
    "In the next session we will try to find out the reasons\n",
    "\n",
    "<br/>\n",
    "\n",
    "#### Appointments per Month"
   ]
  },
  {
   "cell_type": "code",
   "execution_count": 22,
   "metadata": {},
   "outputs": [
    {
     "data": {
      "image/png": "[encoded data removed]",
      "text/plain": [
       "<Figure size 1008x432 with 1 Axes>"
      ]
     },
     "metadata": {},
     "output_type": "display_data"
    },
    {
     "name": "stdout",
     "output_type": "stream",
     "text": [
      "04     3235\n",
      "05    80799\n",
      "06    26425\n",
      "Name: A_month, dtype: int64\n"
     ]
    }
   ],
   "source": [
    "#Creating index and Series to plot bar chart\n",
    "#The series was sort by index to be orded by month\n",
    "index = ['April', 'May', 'June']\n",
    "appointment_per_month = df['A_month'].value_counts().sort_index()\n",
    "\n",
    "plt.figure(figsize=(14,6))\n",
    "plt.title('Appointment per Month', fontsize=20)\n",
    "plt.bar(index, appointment_per_month, color='g')\n",
    "plt.ylim(0, 100000)\n",
    "plt.yticks(np.arange(0, 100000, step=30000))\n",
    "plt.show()\n",
    "\n",
    "print(appointment_per_month)"
   ]
  },
  {
   "cell_type": "code",
   "execution_count": 23,
   "metadata": {},
   "outputs": [],
   "source": [
    "#Query to separate dataframe into show-up and no-show, grouping by appointment month to plot further\n",
    "\n",
    "n_show = df.query('`No-show` == \"Yes\"')['A_month'].value_counts().sort_index()\n",
    "y_show = df.query('`No-show` == \"No\"')['A_month'].value_counts().sort_index()"
   ]
  },
  {
   "cell_type": "code",
   "execution_count": 24,
   "metadata": {},
   "outputs": [
    {
     "data": {
      "image/png": "[encoded data removed]",
      "text/plain": [
       "<Figure size 864x288 with 1 Axes>"
      ]
     },
     "metadata": {},
     "output_type": "display_data"
    }
   ],
   "source": [
    "_index = np.arange(len(index))\n",
    "plt.figure(figsize=(12, 4))\n",
    "plt.ylim(0, 80000)\n",
    "plt.title('Appointment per Month', fontsize=22)\n",
    "\n",
    "\n",
    "plt.bar(_index-0.1, y_show, color='g', width=0.2, align='center')\n",
    "plt.bar(_index+0.1, n_show, color='r', width=0.2, align='center')\n",
    "\n",
    "\n",
    "plt.yticks(np.arange(0, 90000, step=40000))\n",
    "plt.xticks(_index, index)\n",
    "\n",
    "\n",
    "plt.ylabel('Quantity')\n",
    "plt.legend(['Show-up', 'No-show'])\n",
    "plt.show()"
   ]
  },
  {
   "cell_type": "markdown",
   "metadata": {},
   "source": [
    "#### Patients by gender  \n",
    "\n",
    "As we can see below, woman represent 65% of patients:\n",
    "\n"
   ]
  },
  {
   "cell_type": "code",
   "execution_count": 25,
   "metadata": {
    "scrolled": true
   },
   "outputs": [
    {
     "data": {
      "image/png": "[encoded data removed]",
      "text/plain": [
       "<Figure size 432x288 with 1 Axes>"
      ]
     },
     "metadata": {},
     "output_type": "display_data"
    },
    {
     "name": "stdout",
     "output_type": "stream",
     "text": [
      "F    71791\n",
      "M    38668\n",
      "Name: Gender, dtype: int64\n"
     ]
    }
   ],
   "source": [
    "labels = ['Female', 'Male']\n",
    "gender = df['Gender'].value_counts()\n",
    "\n",
    "gender.plot(kind='pie', fontsize=14, autopct='%1.f%%', colors=['g', 'b'])\n",
    "plt.title('Patients by Gender', fontsize=18)\n",
    "plt.show()\n",
    "\n",
    "print(gender)"
   ]
  },
  {
   "cell_type": "markdown",
   "metadata": {},
   "source": [
    "### Research Question 1 - What gender tend to miss more appointment?\n",
    "\n",
    "<br/>\n",
    "\n",
    "To Answer that question, it's not fair to use absolute value, since we have much more female record than male. Therefore, it's necessary to divide each value by total of no-show.  \n",
    "For the record, see below the absolute value."
   ]
  },
  {
   "cell_type": "code",
   "execution_count": 26,
   "metadata": {},
   "outputs": [
    {
     "data": {
      "text/plain": [
       "F    14580\n",
       "M     7715\n",
       "Name: Gender, dtype: int64"
      ]
     },
     "execution_count": 26,
     "metadata": {},
     "output_type": "execute_result"
    }
   ],
   "source": [
    "df.query('`No-show` == \"Yes\"')['Gender'].value_counts()"
   ]
  },
  {
   "cell_type": "code",
   "execution_count": 27,
   "metadata": {},
   "outputs": [
    {
     "data": {
      "image/png": "[encoded data removed]",
      "text/plain": [
       "<Figure size 432x288 with 1 Axes>"
      ]
     },
     "metadata": {},
     "output_type": "display_data"
    },
    {
     "name": "stdout",
     "output_type": "stream",
     "text": [
      "Female proportion: 20.31 \n",
      " Male proportion: 19.95\n"
     ]
    }
   ],
   "source": [
    "#total of no-show using mask, selecting any column, just to count\n",
    "female_total = df.query('`Gender` == \"F\"').shape[0]\n",
    "male_total = df.query('`Gender` == \"M\"').shape[0]\n",
    "total = df.shape[0]\n",
    "\n",
    "#calculating proportional values \n",
    "nshow_female = (df[(df['No-show'] == 'Yes') & (df['Gender'] == 'F')]['Gender'].count() / female_total) * 100\n",
    "nshow_male = (df[(df['No-show'] == 'Yes') & (df['Gender'] == 'M')]['Gender'].count() / male_total) * 100\n",
    "\n",
    "plt.ylim(0, 25)\n",
    "plt.title('Proportion of Female/Male No-show', fontsize=18)\n",
    "plt.bar('Female', nshow_female, color='g')\n",
    "plt.bar('Male', nshow_male, color='b')\n",
    "plt.show()\n",
    "print('Female proportion: {:.2f} \\n Male proportion: {:.2f}'.format(nshow_female, nshow_male))"
   ]
  },
  {
   "cell_type": "markdown",
   "metadata": {},
   "source": [
    "As we can see woman proportion is slightly higher than man.  \n",
    "That maybe happens because even calculating separating by gender, proportion are similar:"
   ]
  },
  {
   "cell_type": "code",
   "execution_count": 28,
   "metadata": {},
   "outputs": [
    {
     "data": {
      "image/png": "[encoded data removed]",
      "text/plain": [
       "<Figure size 1008x432 with 2 Axes>"
      ]
     },
     "metadata": {},
     "output_type": "display_data"
    },
    {
     "name": "stdout",
     "output_type": "stream",
     "text": [
      "Female: \n",
      " No     0.79691\n",
      "Yes    0.20309\n",
      "Name: No-show, dtype: float64 \n",
      "\n",
      " Male: \n",
      " No     0.800481\n",
      "Yes    0.199519\n",
      "Name: No-show, dtype: float64\n"
     ]
    }
   ],
   "source": [
    "female = df.query('Gender == \"F\"')['No-show'].value_counts(normalize=True)\n",
    "male = df.query('Gender == \"M\"')['No-show'].value_counts(normalize=True)\n",
    "\n",
    "plt.figure(figsize=(14,6))\n",
    "ticks = np.arange(0, 1.2, 0.2)\n",
    "\n",
    "plt.suptitle('Pacient show up or not by gender (%)', fontsize=18)\n",
    "\n",
    "plt.subplot(1, 2, 1)\n",
    "female.plot(kind=\"bar\", color='b')\n",
    "plt.title('Female', fontsize=18, y=-0.2)\n",
    "plt.yticks(ticks)\n",
    "\n",
    "plt.subplot(1, 2, 2)\n",
    "male.plot(kind=\"bar\", color='g')\n",
    "plt.title('Male', fontsize=18, y=-0.2)\n",
    "plt.yticks(ticks)\n",
    "\n",
    "plt.show()\n",
    "\n",
    "# print value of queries\n",
    "print('Female: \\n', female, '\\n\\n', 'Male: \\n', male)"
   ]
  },
  {
   "cell_type": "markdown",
   "metadata": {},
   "source": [
    "#### Conclusion  \n",
    "\n",
    "<br/>\n",
    "\n",
    "Since the differente are insignificant, **we can't affirm wich gender miss more appointment**."
   ]
  },
  {
   "cell_type": "markdown",
   "metadata": {},
   "source": [
    "### Research Question 2 - Are SMS reminder efficient to avoid no-show? \n",
    "\n",
    "<br/>\n",
    "\n",
    "In the dataset we have information if patient received sms to reminder about appointment (1 if received and 0 if not).  \n",
    "To calculate correlation between no-show and sms, we'are going to apply pandas corr function:"
   ]
  },
  {
   "cell_type": "code",
   "execution_count": 29,
   "metadata": {
    "scrolled": true
   },
   "outputs": [
    {
     "data": {
      "text/html": [
       "<div>\n",
       "<style scoped>\n",
       "    .dataframe tbody tr th:only-of-type {\n",
       "        vertical-align: middle;\n",
       "    }\n",
       "\n",
       "    .dataframe tbody tr th {\n",
       "        vertical-align: top;\n",
       "    }\n",
       "\n",
       "    .dataframe thead th {\n",
       "        text-align: right;\n",
       "    }\n",
       "</style>\n",
       "<table border=\"1\" class=\"dataframe\">\n",
       "  <thead>\n",
       "    <tr style=\"text-align: right;\">\n",
       "      <th></th>\n",
       "      <th>PatientId</th>\n",
       "      <th>Age</th>\n",
       "      <th>SMS_received</th>\n",
       "      <th>No-show-boolean</th>\n",
       "    </tr>\n",
       "  </thead>\n",
       "  <tbody>\n",
       "    <tr>\n",
       "      <th>PatientId</th>\n",
       "      <td>1.000000</td>\n",
       "      <td>-0.004274</td>\n",
       "      <td>-0.009630</td>\n",
       "      <td>-0.001452</td>\n",
       "    </tr>\n",
       "    <tr>\n",
       "      <th>Age</th>\n",
       "      <td>-0.004274</td>\n",
       "      <td>1.000000</td>\n",
       "      <td>0.012219</td>\n",
       "      <td>-0.060547</td>\n",
       "    </tr>\n",
       "    <tr>\n",
       "      <th>SMS_received</th>\n",
       "      <td>-0.009630</td>\n",
       "      <td>0.012219</td>\n",
       "      <td>1.000000</td>\n",
       "      <td>0.126452</td>\n",
       "    </tr>\n",
       "    <tr>\n",
       "      <th>No-show-boolean</th>\n",
       "      <td>-0.001452</td>\n",
       "      <td>-0.060547</td>\n",
       "      <td>0.126452</td>\n",
       "      <td>1.000000</td>\n",
       "    </tr>\n",
       "  </tbody>\n",
       "</table>\n",
       "</div>"
      ],
      "text/plain": [
       "                 PatientId       Age  SMS_received  No-show-boolean\n",
       "PatientId         1.000000 -0.004274     -0.009630        -0.001452\n",
       "Age              -0.004274  1.000000      0.012219        -0.060547\n",
       "SMS_received     -0.009630  0.012219      1.000000         0.126452\n",
       "No-show-boolean  -0.001452 -0.060547      0.126452         1.000000"
      ]
     },
     "execution_count": 29,
     "metadata": {},
     "output_type": "execute_result"
    }
   ],
   "source": [
    "df.corr()"
   ]
  },
  {
   "cell_type": "markdown",
   "metadata": {},
   "source": [
    "At first there is no strong correlation between sms and no-show, since the value are 0.12.  \n",
    "Correlation can variate since -1 until 1, values closer in these indicate strong correlation.  \n",
    "Let's just calculate how efficient was send sms to remind about appointment.\n"
   ]
  },
  {
   "cell_type": "code",
   "execution_count": 30,
   "metadata": {
    "scrolled": true
   },
   "outputs": [],
   "source": [
    "sms_rec = df.query(\"`SMS_received` == 1\").groupby('No-show').count()['Age']\n",
    "sms_not_received = df.query(\"`SMS_received` == 0\").groupby('No-show').count()['Age']"
   ]
  },
  {
   "cell_type": "code",
   "execution_count": 31,
   "metadata": {
    "scrolled": true
   },
   "outputs": [
    {
     "data": {
      "image/png": "[encoded data removed]",
      "text/plain": [
       "<Figure size 576x288 with 1 Axes>"
      ]
     },
     "metadata": {},
     "output_type": "display_data"
    }
   ],
   "source": [
    "index = ['Show-up', 'No-show']\n",
    "_index = np.arange(len(index))\n",
    "\n",
    "\n",
    "font = {\n",
    "    'size': 18,\n",
    "    'weight': 'bold',\n",
    "}\n",
    "\n",
    "plt.figure(figsize=(8,4))\n",
    "\n",
    "plt.bar(_index-0.1, sms_not_received, width=0.2, color='b')\n",
    "plt.bar(_index+0.1, sms_rec, width=0.2, color='g')\n",
    "\n",
    "plt.ylim(0, 80001)\n",
    "plt.yticks(np.arange(0, 80001, step=20000))\n",
    "plt.xticks(_index, index)\n",
    "\n",
    "\n",
    "plt.title('Show-up/No-show with SMS reminder', fontdict=font)\n",
    "plt.legend(['Not received SMS', 'SMS_received'])\n",
    "plt.show()"
   ]
  },
  {
   "cell_type": "markdown",
   "metadata": {},
   "source": [
    "#### Conclusion  \n",
    "\n",
    "<br/>\n",
    "\n",
    "Send SMS **it's not efficient to avoid no-show appointment**."
   ]
  },
  {
   "cell_type": "markdown",
   "metadata": {},
   "source": [
    "### Research Question 3 - What's age range miss more appointment?\n",
    "\n",
    "<br/>\n",
    "\n",
    "As we saw before, in this dataset we have people from 0 until 115 year. Here, a chart with"
   ]
  },
  {
   "cell_type": "code",
   "execution_count": 32,
   "metadata": {
    "scrolled": false
   },
   "outputs": [
    {
     "data": {
      "image/png": "[encoded data removed]",
      "text/plain": [
       "<Figure size 1008x432 with 1 Axes>"
      ]
     },
     "metadata": {},
     "output_type": "display_data"
    }
   ],
   "source": [
    "plt.figure(figsize=(14, 6))\n",
    "plt.hist(df['Age'], color='g')\n",
    "\n",
    "plt.title('Patient by Age', fontsize=24)\n",
    "plt.xlabel('Age', fontsize=18)\n",
    "plt.ylabel('Number of Patient', fontsize=18)\n",
    "\n",
    "plt.show()"
   ]
  },
  {
   "cell_type": "markdown",
   "metadata": {},
   "source": [
    "To see better how distribute are the age of patient, let's categorize:"
   ]
  },
  {
   "cell_type": "code",
   "execution_count": 33,
   "metadata": {},
   "outputs": [
    {
     "data": {
      "text/plain": [
       "0 - 9        15209\n",
       "10 - 19      13098\n",
       "20 - 29      13780\n",
       "30 - 39      15047\n",
       "40 - 49      14413\n",
       "50 - 59      15648\n",
       "60 - 69      11175\n",
       "70 - 79       5707\n",
       "80 - 89       2535\n",
       "90 - 99        301\n",
       "100 - 109        2\n",
       "110 - 119        5\n",
       "Name: Age_range, dtype: int64"
      ]
     },
     "execution_count": 33,
     "metadata": {},
     "output_type": "execute_result"
    }
   ],
   "source": [
    "#Create labels of age range\n",
    "labels = [\"{0} - {1}\".format(i, i + 9) for i in range(0, 120, 10)]\n",
    "\n",
    "#Create a new column and classify age range using pandas cut method.\n",
    "df['Age_range'] = pd.cut(df['Age'], range(0, 130, 10), right=True, labels=labels)\n",
    "\n",
    "#age range count\n",
    "norm_age_range = df['Age_range'].value_counts().sort_index()\n",
    "norm_age_range"
   ]
  },
  {
   "cell_type": "code",
   "execution_count": 34,
   "metadata": {},
   "outputs": [
    {
     "data": {
      "image/png": "[encoded data removed]",
      "text/plain": [
       "<Figure size 1152x576 with 1 Axes>"
      ]
     },
     "metadata": {},
     "output_type": "display_data"
    }
   ],
   "source": [
    "plt.figure(figsize=(16, 8))\n",
    "plt.bar(labels, norm_age_range, color='g')\n",
    "plt.title('Patient by Age Range', fontsize=22)\n",
    "plt.ylabel('Number of Patient', fontsize=18)\n",
    "plt.yticks(np.arange(0, 16001, step=4000))\n",
    "plt.show()"
   ]
  },
  {
   "cell_type": "markdown",
   "metadata": {},
   "source": [
    "Looking this categories, we can see that childrens and teenage represent over 25%. That could be the reason to send sms not be efficient, since most of those persons may not have access to cell phones.  \n",
    "Now let's plot no-show per age rage"
   ]
  },
  {
   "cell_type": "code",
   "execution_count": 35,
   "metadata": {},
   "outputs": [],
   "source": [
    "nshow = df.query('`No-show` == \"Yes\"')\n",
    "showup = df.query('`No-show` == \"No\"')\n",
    "\n",
    "nshow_per_age_rage = nshow.groupby('Age_range').count()['Age']"
   ]
  },
  {
   "cell_type": "code",
   "execution_count": 36,
   "metadata": {},
   "outputs": [
    {
     "data": {
      "image/png": "[encoded data removed]",
      "text/plain": [
       "<Figure size 1728x432 with 1 Axes>"
      ]
     },
     "metadata": {},
     "output_type": "display_data"
    },
    {
     "name": "stdout",
     "output_type": "stream",
     "text": [
      "Age_range\n",
      "0 - 9        3148\n",
      "10 - 19      3307\n",
      "20 - 29      3392\n",
      "30 - 39      3230\n",
      "40 - 49      2869\n",
      "50 - 59      2717\n",
      "60 - 69      1644\n",
      "70 - 79       884\n",
      "80 - 89       403\n",
      "90 - 99        59\n",
      "100 - 109       0\n",
      "110 - 119       3\n",
      "Name: Age, dtype: int64\n"
     ]
    }
   ],
   "source": [
    "plt.figure(figsize=(24,6))\n",
    "\n",
    "plt.bar(labels, nshow_per_age_rage, color='g')\n",
    "plt.ylim(0, 3500)\n",
    "\n",
    "plt.title('No show by age range', fontsize=(22), weight='bold')\n",
    "plt.ylabel('Number of Patient', fontsize=18)\n",
    "plt.show()\n",
    "\n",
    "print(nshow_per_age_rage)"
   ]
  },
  {
   "cell_type": "markdown",
   "metadata": {},
   "source": [
    "Just to know, let's check age range by gender too."
   ]
  },
  {
   "cell_type": "code",
   "execution_count": 37,
   "metadata": {},
   "outputs": [
    {
     "data": {
      "image/png": "[encoded data removed]",
      "text/plain": [
       "<Figure size 1728x576 with 1 Axes>"
      ]
     },
     "metadata": {},
     "output_type": "display_data"
    }
   ],
   "source": [
    "gender_by_age_range = df.groupby(['Age_range', 'Gender']).count()['Age']\n",
    "\n",
    "plt.figure(figsize=(24, 8))\n",
    "plt.ylim(0, 12000)\n",
    "plt.yticks(np.arange(0, 12001, step=2000))\n",
    "plt.title(\"\")\n",
    "plt.grid(b=True, which='minor')\n",
    "gender_by_age_range.plot(kind='bar', color=['g', 'b'])\n",
    "plt.title('Patient by gender and age range', fontsize=22)\n",
    "plt.show()"
   ]
  },
  {
   "cell_type": "markdown",
   "metadata": {},
   "source": [
    "#### Conclusion  \n",
    "\n",
    "<br/>\n",
    "\n",
    "Person with age between 20 to 29 miss more appointment than others age range. It's interesting to notice that no-show rate increase until that age range, and after this one rate are decreasing."
   ]
  },
  {
   "cell_type": "markdown",
   "metadata": {},
   "source": [
    "### Research Question 4 - Is wainting time related with no show-rate?\n",
    "\n",
    "<br/>\n",
    "\n",
    "Firts let's check some information about this column:"
   ]
  },
  {
   "cell_type": "code",
   "execution_count": 38,
   "metadata": {},
   "outputs": [
    {
     "data": {
      "text/plain": [
       "count                        110459\n",
       "mean     10 days 02:19:30.222435473\n",
       "std      14 days 19:16:40.291861651\n",
       "min                 0 days 00:00:00\n",
       "25%                 0 days 00:00:00\n",
       "50%                 4 days 00:00:00\n",
       "75%                15 days 00:00:00\n",
       "max               146 days 00:00:00\n",
       "Name: Waiting_time, dtype: object"
      ]
     },
     "execution_count": 38,
     "metadata": {},
     "output_type": "execute_result"
    }
   ],
   "source": [
    "df['Waiting_time'].describe()"
   ]
  },
  {
   "cell_type": "code",
   "execution_count": 39,
   "metadata": {},
   "outputs": [],
   "source": [
    "#Creating masks to further manipulations\n",
    "nshow_waiting = df.query('`No-show` == \"Yes\"')['Waiting_time']\n",
    "showup_waiting = df.query('`No-show` == \"No\"')['Waiting_time']"
   ]
  },
  {
   "cell_type": "code",
   "execution_count": 40,
   "metadata": {},
   "outputs": [
    {
     "data": {
      "text/plain": [
       "count                         22295\n",
       "mean     15 days 17:00:22.121551917\n",
       "std      16 days 00:43:04.432820586\n",
       "min                 0 days 00:00:00\n",
       "25%                 4 days 00:00:00\n",
       "50%                11 days 00:00:00\n",
       "75%                23 days 00:00:00\n",
       "max               146 days 00:00:00\n",
       "Name: Waiting_time, dtype: object"
      ]
     },
     "execution_count": 40,
     "metadata": {},
     "output_type": "execute_result"
    }
   ],
   "source": [
    "nshow_waiting.describe()"
   ]
  },
  {
   "cell_type": "code",
   "execution_count": 41,
   "metadata": {},
   "outputs": [
    {
     "data": {
      "text/plain": [
       "count                         88164\n",
       "mean      8 days 16:16:00.391996733\n",
       "std      14 days 03:04:08.440778715\n",
       "min                 0 days 00:00:00\n",
       "25%                 0 days 00:00:00\n",
       "50%                 2 days 00:00:00\n",
       "75%                12 days 00:00:00\n",
       "max               133 days 00:00:00\n",
       "Name: Waiting_time, dtype: object"
      ]
     },
     "execution_count": 41,
     "metadata": {},
     "output_type": "execute_result"
    }
   ],
   "source": [
    "showup_waiting.describe()"
   ]
  },
  {
   "cell_type": "code",
   "execution_count": 42,
   "metadata": {},
   "outputs": [
    {
     "name": "stdout",
     "output_type": "stream",
     "text": [
      "Average waiting time to no show appointment: 15 days 17:00:22.121551917 \n",
      "Average waiting time to show up appointment: 8 days 16:16:00.391996733\n"
     ]
    }
   ],
   "source": [
    "print('Average waiting time to no show appointment: {} \\nAverage waiting time to show up appointment: {}'.format(nshow_waiting.mean(), showup_waiting.mean()))"
   ]
  },
  {
   "cell_type": "code",
   "execution_count": 43,
   "metadata": {},
   "outputs": [
    {
     "data": {
      "text/plain": [
       "(22295, 14)"
      ]
     },
     "execution_count": 43,
     "metadata": {},
     "output_type": "execute_result"
    }
   ],
   "source": [
    "df.query('`No-show` == \"Yes\"').shape"
   ]
  },
  {
   "cell_type": "markdown",
   "metadata": {},
   "source": [
    "#### Conclusion  \n",
    "\n",
    "<br/>\n",
    "\n",
    "Average waiting time in no show appointment it almost double, so **we can affirm some correlation between no-show and waiting time**"
   ]
  },
  {
   "cell_type": "markdown",
   "metadata": {},
   "source": [
    "<a id='conclusions'></a>\n",
    "\n",
    "<br/>\n",
    "\n",
    "## Final Conclusions\n",
    "\n",
    "<br/>\n",
    "\n",
    "In this report, it was analyzed medical appointment and show up/no show rate in 2016. See below some findings:\n",
    "* No show rate are 20%;\n",
    "* Send SMS seems to be not very effective to increase this rate;\n",
    "* That could be because childrens and teenagers (0 - 19 year old) represent 28% of all miss - These pacient may not have cel phone to receive SMS;\n",
    "* There are more woman appointment than man - woman represent 65% of dataset;\n",
    "* Despite this proportion, woman and man miss appointment in same proportion;\n"
   ]
  }
 ],
 "metadata": {
  "kernelspec": {
   "display_name": "Python 3",
   "language": "python",
   "name": "python3"
  },
  "language_info": {
   "codemirror_mode": {
    "name": "ipython",
    "version": 3
   },
   "file_extension": ".py",
   "mimetype": "text/x-python",
   "name": "python",
   "nbconvert_exporter": "python",
   "pygments_lexer": "ipython3",
   "version": "3.6.9"
  }
 },
 "nbformat": 4,
 "nbformat_minor": 2
}
